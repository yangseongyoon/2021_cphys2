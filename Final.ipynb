{
 "cells": [
  {
   "cell_type": "markdown",
   "id": "224ca42f",
   "metadata": {},
   "source": [
    "# Final\n",
    "## 1. Titanic (Regression)"
   ]
  },
  {
   "cell_type": "code",
   "execution_count": 1,
   "id": "61c36976",
   "metadata": {},
   "outputs": [],
   "source": [
    "import numpy as np\n",
    "import pandas as pd"
   ]
  },
  {
   "cell_type": "code",
   "execution_count": 2,
   "id": "24ebb361",
   "metadata": {},
   "outputs": [],
   "source": [
    "train_data = pd.read_csv('train.csv')\n",
    "test = pd.read_csv('test.csv')"
   ]
  },
  {
   "cell_type": "code",
   "execution_count": 3,
   "id": "0d23bb75",
   "metadata": {},
   "outputs": [
    {
     "data": {
      "text/html": [
       "<div>\n",
       "<style scoped>\n",
       "    .dataframe tbody tr th:only-of-type {\n",
       "        vertical-align: middle;\n",
       "    }\n",
       "\n",
       "    .dataframe tbody tr th {\n",
       "        vertical-align: top;\n",
       "    }\n",
       "\n",
       "    .dataframe thead th {\n",
       "        text-align: right;\n",
       "    }\n",
       "</style>\n",
       "<table border=\"1\" class=\"dataframe\">\n",
       "  <thead>\n",
       "    <tr style=\"text-align: right;\">\n",
       "      <th></th>\n",
       "      <th>PassengerId</th>\n",
       "      <th>Survived</th>\n",
       "      <th>Pclass</th>\n",
       "      <th>Name</th>\n",
       "      <th>Sex</th>\n",
       "      <th>Age</th>\n",
       "      <th>SibSp</th>\n",
       "      <th>Parch</th>\n",
       "      <th>Ticket</th>\n",
       "      <th>Fare</th>\n",
       "      <th>Cabin</th>\n",
       "      <th>Embarked</th>\n",
       "    </tr>\n",
       "  </thead>\n",
       "  <tbody>\n",
       "    <tr>\n",
       "      <th>0</th>\n",
       "      <td>1</td>\n",
       "      <td>0</td>\n",
       "      <td>3</td>\n",
       "      <td>Braund, Mr. Owen Harris</td>\n",
       "      <td>male</td>\n",
       "      <td>22.0</td>\n",
       "      <td>1</td>\n",
       "      <td>0</td>\n",
       "      <td>A/5 21171</td>\n",
       "      <td>7.2500</td>\n",
       "      <td>NaN</td>\n",
       "      <td>S</td>\n",
       "    </tr>\n",
       "    <tr>\n",
       "      <th>1</th>\n",
       "      <td>2</td>\n",
       "      <td>1</td>\n",
       "      <td>1</td>\n",
       "      <td>Cumings, Mrs. John Bradley (Florence Briggs Th...</td>\n",
       "      <td>female</td>\n",
       "      <td>38.0</td>\n",
       "      <td>1</td>\n",
       "      <td>0</td>\n",
       "      <td>PC 17599</td>\n",
       "      <td>71.2833</td>\n",
       "      <td>C85</td>\n",
       "      <td>C</td>\n",
       "    </tr>\n",
       "    <tr>\n",
       "      <th>2</th>\n",
       "      <td>3</td>\n",
       "      <td>1</td>\n",
       "      <td>3</td>\n",
       "      <td>Heikkinen, Miss. Laina</td>\n",
       "      <td>female</td>\n",
       "      <td>26.0</td>\n",
       "      <td>0</td>\n",
       "      <td>0</td>\n",
       "      <td>STON/O2. 3101282</td>\n",
       "      <td>7.9250</td>\n",
       "      <td>NaN</td>\n",
       "      <td>S</td>\n",
       "    </tr>\n",
       "    <tr>\n",
       "      <th>3</th>\n",
       "      <td>4</td>\n",
       "      <td>1</td>\n",
       "      <td>1</td>\n",
       "      <td>Futrelle, Mrs. Jacques Heath (Lily May Peel)</td>\n",
       "      <td>female</td>\n",
       "      <td>35.0</td>\n",
       "      <td>1</td>\n",
       "      <td>0</td>\n",
       "      <td>113803</td>\n",
       "      <td>53.1000</td>\n",
       "      <td>C123</td>\n",
       "      <td>S</td>\n",
       "    </tr>\n",
       "    <tr>\n",
       "      <th>4</th>\n",
       "      <td>5</td>\n",
       "      <td>0</td>\n",
       "      <td>3</td>\n",
       "      <td>Allen, Mr. William Henry</td>\n",
       "      <td>male</td>\n",
       "      <td>35.0</td>\n",
       "      <td>0</td>\n",
       "      <td>0</td>\n",
       "      <td>373450</td>\n",
       "      <td>8.0500</td>\n",
       "      <td>NaN</td>\n",
       "      <td>S</td>\n",
       "    </tr>\n",
       "  </tbody>\n",
       "</table>\n",
       "</div>"
      ],
      "text/plain": [
       "   PassengerId  Survived  Pclass  \\\n",
       "0            1         0       3   \n",
       "1            2         1       1   \n",
       "2            3         1       3   \n",
       "3            4         1       1   \n",
       "4            5         0       3   \n",
       "\n",
       "                                                Name     Sex   Age  SibSp  \\\n",
       "0                            Braund, Mr. Owen Harris    male  22.0      1   \n",
       "1  Cumings, Mrs. John Bradley (Florence Briggs Th...  female  38.0      1   \n",
       "2                             Heikkinen, Miss. Laina  female  26.0      0   \n",
       "3       Futrelle, Mrs. Jacques Heath (Lily May Peel)  female  35.0      1   \n",
       "4                           Allen, Mr. William Henry    male  35.0      0   \n",
       "\n",
       "   Parch            Ticket     Fare Cabin Embarked  \n",
       "0      0         A/5 21171   7.2500   NaN        S  \n",
       "1      0          PC 17599  71.2833   C85        C  \n",
       "2      0  STON/O2. 3101282   7.9250   NaN        S  \n",
       "3      0            113803  53.1000  C123        S  \n",
       "4      0            373450   8.0500   NaN        S  "
      ]
     },
     "execution_count": 3,
     "metadata": {},
     "output_type": "execute_result"
    }
   ],
   "source": [
    "train_data.head()"
   ]
  },
  {
   "cell_type": "code",
   "execution_count": 4,
   "id": "5e81f7b9",
   "metadata": {},
   "outputs": [
    {
     "name": "stdout",
     "output_type": "stream",
     "text": [
      "<class 'pandas.core.frame.DataFrame'>\n",
      "RangeIndex: 891 entries, 0 to 890\n",
      "Data columns (total 12 columns):\n",
      " #   Column       Non-Null Count  Dtype  \n",
      "---  ------       --------------  -----  \n",
      " 0   PassengerId  891 non-null    int64  \n",
      " 1   Survived     891 non-null    int64  \n",
      " 2   Pclass       891 non-null    int64  \n",
      " 3   Name         891 non-null    object \n",
      " 4   Sex          891 non-null    object \n",
      " 5   Age          714 non-null    float64\n",
      " 6   SibSp        891 non-null    int64  \n",
      " 7   Parch        891 non-null    int64  \n",
      " 8   Ticket       891 non-null    object \n",
      " 9   Fare         891 non-null    float64\n",
      " 10  Cabin        204 non-null    object \n",
      " 11  Embarked     889 non-null    object \n",
      "dtypes: float64(2), int64(5), object(5)\n",
      "memory usage: 83.7+ KB\n"
     ]
    },
    {
     "data": {
      "text/plain": [
       "((891, 12), None)"
      ]
     },
     "execution_count": 4,
     "metadata": {},
     "output_type": "execute_result"
    }
   ],
   "source": [
    "train_data.shape, train_data.info()  "
   ]
  },
  {
   "cell_type": "code",
   "execution_count": 5,
   "id": "41b4976b",
   "metadata": {
    "scrolled": true
   },
   "outputs": [
    {
     "name": "stdout",
     "output_type": "stream",
     "text": [
      "<class 'pandas.core.frame.DataFrame'>\n",
      "RangeIndex: 418 entries, 0 to 417\n",
      "Data columns (total 11 columns):\n",
      " #   Column       Non-Null Count  Dtype  \n",
      "---  ------       --------------  -----  \n",
      " 0   PassengerId  418 non-null    int64  \n",
      " 1   Pclass       418 non-null    int64  \n",
      " 2   Name         418 non-null    object \n",
      " 3   Sex          418 non-null    object \n",
      " 4   Age          332 non-null    float64\n",
      " 5   SibSp        418 non-null    int64  \n",
      " 6   Parch        418 non-null    int64  \n",
      " 7   Ticket       418 non-null    object \n",
      " 8   Fare         417 non-null    float64\n",
      " 9   Cabin        91 non-null     object \n",
      " 10  Embarked     418 non-null    object \n",
      "dtypes: float64(2), int64(4), object(5)\n",
      "memory usage: 36.0+ KB\n"
     ]
    },
    {
     "data": {
      "text/plain": [
       "((418, 11), None)"
      ]
     },
     "execution_count": 5,
     "metadata": {},
     "output_type": "execute_result"
    }
   ],
   "source": [
    "test.shape, test.info()"
   ]
  },
  {
   "cell_type": "markdown",
   "id": "95bde3e5",
   "metadata": {},
   "source": [
    "### 필요 없는 데이터 삭제\n",
    "Name, Ticket은 생존 여부와 관계없다고 생각합니다. 그리고 Cabin은 누락된 데이터가 너무 많습니다.\n",
    "따라서 Name, Ticket, Cabin을 삭제했습니다."
   ]
  },
  {
   "cell_type": "code",
   "execution_count": 6,
   "id": "e8cba913",
   "metadata": {},
   "outputs": [],
   "source": [
    "# 필요 없는 데이터 없애기\n",
    "train_data.drop(['Name', 'Ticket', 'Cabin'], axis = 1, inplace = True) \n",
    "test.drop(['Name', 'Ticket', 'Cabin'], axis = 1, inplace = True) "
   ]
  },
  {
   "cell_type": "code",
   "execution_count": 7,
   "id": "ee2310e8",
   "metadata": {},
   "outputs": [
    {
     "name": "stdout",
     "output_type": "stream",
     "text": [
      "<class 'pandas.core.frame.DataFrame'>\n",
      "RangeIndex: 891 entries, 0 to 890\n",
      "Data columns (total 9 columns):\n",
      " #   Column       Non-Null Count  Dtype  \n",
      "---  ------       --------------  -----  \n",
      " 0   PassengerId  891 non-null    int64  \n",
      " 1   Survived     891 non-null    int64  \n",
      " 2   Pclass       891 non-null    int64  \n",
      " 3   Sex          891 non-null    object \n",
      " 4   Age          714 non-null    float64\n",
      " 5   SibSp        891 non-null    int64  \n",
      " 6   Parch        891 non-null    int64  \n",
      " 7   Fare         891 non-null    float64\n",
      " 8   Embarked     889 non-null    object \n",
      "dtypes: float64(2), int64(5), object(2)\n",
      "memory usage: 62.8+ KB\n"
     ]
    }
   ],
   "source": [
    "train_data.info()  # ['Age']에 누락된 데이터 = 177, ['Embarked']에 누락된 데이터 = 2"
   ]
  },
  {
   "cell_type": "code",
   "execution_count": 8,
   "id": "7324bfa6",
   "metadata": {},
   "outputs": [
    {
     "name": "stdout",
     "output_type": "stream",
     "text": [
      "<class 'pandas.core.frame.DataFrame'>\n",
      "RangeIndex: 418 entries, 0 to 417\n",
      "Data columns (total 8 columns):\n",
      " #   Column       Non-Null Count  Dtype  \n",
      "---  ------       --------------  -----  \n",
      " 0   PassengerId  418 non-null    int64  \n",
      " 1   Pclass       418 non-null    int64  \n",
      " 2   Sex          418 non-null    object \n",
      " 3   Age          332 non-null    float64\n",
      " 4   SibSp        418 non-null    int64  \n",
      " 5   Parch        418 non-null    int64  \n",
      " 6   Fare         417 non-null    float64\n",
      " 7   Embarked     418 non-null    object \n",
      "dtypes: float64(2), int64(4), object(2)\n",
      "memory usage: 26.2+ KB\n"
     ]
    }
   ],
   "source": [
    "test.info()  # ['Age']에 누락된 데이터 = 86, ['Fare']에 누락된 데이터 = 1"
   ]
  },
  {
   "cell_type": "markdown",
   "id": "d5d9723d",
   "metadata": {},
   "source": [
    "### 누락된 데이터 채우기"
   ]
  },
  {
   "cell_type": "code",
   "execution_count": 9,
   "id": "2b39ebeb",
   "metadata": {},
   "outputs": [
    {
     "data": {
      "text/plain": [
       "29.69911764705882"
      ]
     },
     "execution_count": 9,
     "metadata": {},
     "output_type": "execute_result"
    }
   ],
   "source": [
    "train_data['Age'].mean()"
   ]
  },
  {
   "cell_type": "code",
   "execution_count": 10,
   "id": "c45d4375",
   "metadata": {
    "scrolled": true
   },
   "outputs": [],
   "source": [
    "train_data['Age'] = train_data['Age'].fillna(train_data['Age'].mean()) # train_data['Age']의 누락된 데이터에 ['Age']평균 넣기"
   ]
  },
  {
   "cell_type": "code",
   "execution_count": 11,
   "id": "7c7a5f4c",
   "metadata": {},
   "outputs": [
    {
     "data": {
      "text/plain": [
       "S      644\n",
       "C      168\n",
       "Q       77\n",
       "NaN      2\n",
       "Name: Embarked, dtype: int64"
      ]
     },
     "execution_count": 11,
     "metadata": {},
     "output_type": "execute_result"
    }
   ],
   "source": [
    "train_data['Embarked'].value_counts(dropna=False)  "
   ]
  },
  {
   "cell_type": "code",
   "execution_count": 12,
   "id": "e17dfcfb",
   "metadata": {},
   "outputs": [],
   "source": [
    "train_data['Embarked'] = train_data['Embarked'].fillna('S')  # rain_data['Embarked']의 누락된 데이터에 가장 많은 S 넣기 "
   ]
  },
  {
   "cell_type": "code",
   "execution_count": 13,
   "id": "7ea0fdb3",
   "metadata": {},
   "outputs": [
    {
     "data": {
      "text/plain": [
       "30.272590361445783"
      ]
     },
     "execution_count": 13,
     "metadata": {},
     "output_type": "execute_result"
    }
   ],
   "source": [
    "test['Age'].mean()"
   ]
  },
  {
   "cell_type": "code",
   "execution_count": 14,
   "id": "4eb624f1",
   "metadata": {},
   "outputs": [],
   "source": [
    "test['Age'] = test['Age'].fillna(test['Age'].mean())  # test['Age']의 누락된 데이터에 ['Age']평균 넣기"
   ]
  },
  {
   "cell_type": "code",
   "execution_count": 15,
   "id": "371988cf",
   "metadata": {},
   "outputs": [
    {
     "data": {
      "text/plain": [
       "35.6271884892086"
      ]
     },
     "execution_count": 15,
     "metadata": {},
     "output_type": "execute_result"
    }
   ],
   "source": [
    "test['Fare'].mean()"
   ]
  },
  {
   "cell_type": "code",
   "execution_count": 16,
   "id": "79e0ea56",
   "metadata": {},
   "outputs": [],
   "source": [
    "test['Fare'] = test['Fare'].fillna(test['Fare'].mean())  # test['Fare']의 누락된 데이터에 ['Fare']평균 넣기"
   ]
  },
  {
   "cell_type": "code",
   "execution_count": 17,
   "id": "aa3ca6e7",
   "metadata": {},
   "outputs": [],
   "source": [
    "# object >> string\n",
    "train_data['Sex'] = train_data['Sex'].astype(str)\n",
    "train_data['Embarked'] = train_data['Embarked'].astype(str)\n",
    "test['Sex'] = test['Sex'].astype(str)\n",
    "test['Embarked'] = test['Embarked'].astype(str)"
   ]
  },
  {
   "cell_type": "code",
   "execution_count": 18,
   "id": "39365aad",
   "metadata": {},
   "outputs": [],
   "source": [
    "# 0과 1로 구성된 가변수로 만들기 \n",
    "train_data = pd.get_dummies(train_data)\n",
    "test = pd.get_dummies(test)"
   ]
  },
  {
   "cell_type": "code",
   "execution_count": 19,
   "id": "46373e6e",
   "metadata": {},
   "outputs": [
    {
     "name": "stdout",
     "output_type": "stream",
     "text": [
      "<class 'pandas.core.frame.DataFrame'>\n",
      "RangeIndex: 891 entries, 0 to 890\n",
      "Data columns (total 12 columns):\n",
      " #   Column       Non-Null Count  Dtype  \n",
      "---  ------       --------------  -----  \n",
      " 0   PassengerId  891 non-null    int64  \n",
      " 1   Survived     891 non-null    int64  \n",
      " 2   Pclass       891 non-null    int64  \n",
      " 3   Age          891 non-null    float64\n",
      " 4   SibSp        891 non-null    int64  \n",
      " 5   Parch        891 non-null    int64  \n",
      " 6   Fare         891 non-null    float64\n",
      " 7   Sex_female   891 non-null    uint8  \n",
      " 8   Sex_male     891 non-null    uint8  \n",
      " 9   Embarked_C   891 non-null    uint8  \n",
      " 10  Embarked_Q   891 non-null    uint8  \n",
      " 11  Embarked_S   891 non-null    uint8  \n",
      "dtypes: float64(2), int64(5), uint8(5)\n",
      "memory usage: 53.2 KB\n",
      "<class 'pandas.core.frame.DataFrame'>\n",
      "RangeIndex: 418 entries, 0 to 417\n",
      "Data columns (total 11 columns):\n",
      " #   Column       Non-Null Count  Dtype  \n",
      "---  ------       --------------  -----  \n",
      " 0   PassengerId  418 non-null    int64  \n",
      " 1   Pclass       418 non-null    int64  \n",
      " 2   Age          418 non-null    float64\n",
      " 3   SibSp        418 non-null    int64  \n",
      " 4   Parch        418 non-null    int64  \n",
      " 5   Fare         418 non-null    float64\n",
      " 6   Sex_female   418 non-null    uint8  \n",
      " 7   Sex_male     418 non-null    uint8  \n",
      " 8   Embarked_C   418 non-null    uint8  \n",
      " 9   Embarked_Q   418 non-null    uint8  \n",
      " 10  Embarked_S   418 non-null    uint8  \n",
      "dtypes: float64(2), int64(4), uint8(5)\n",
      "memory usage: 21.8 KB\n"
     ]
    }
   ],
   "source": [
    "train_data.info()\n",
    "test.info()"
   ]
  },
  {
   "cell_type": "code",
   "execution_count": 20,
   "id": "71f82c79",
   "metadata": {},
   "outputs": [],
   "source": [
    "from sklearn.ensemble import RandomForestClassifier # Random Forest 이용"
   ]
  },
  {
   "cell_type": "code",
   "execution_count": 21,
   "id": "e340d6c1",
   "metadata": {},
   "outputs": [],
   "source": [
    "X_train = train_data.drop(['Survived','PassengerId'], axis = 1) \n",
    "X_test = test.drop(['PassengerId'], axis = 1)\n",
    "Y_train = train_data['Survived']"
   ]
  },
  {
   "cell_type": "code",
   "execution_count": 22,
   "id": "0f529859",
   "metadata": {},
   "outputs": [],
   "source": [
    "# model 생성\n",
    "model = RandomForestClassifier(n_estimators=100, max_depth = 6, random_state = 0) # 트리의 개수 100개, 트리의 깊이 6개"
   ]
  },
  {
   "cell_type": "code",
   "execution_count": 23,
   "id": "34172c36",
   "metadata": {},
   "outputs": [
    {
     "name": "stdout",
     "output_type": "stream",
     "text": [
      "Accuracy: 86.53 %\n"
     ]
    }
   ],
   "source": [
    "model.fit(X_train, Y_train)\n",
    "predicion = model.predict(X_test)\n",
    "accuracy = round(model.score(X_train,Y_train)*100,2)\n",
    "print(\"Accuracy:\",accuracy,\"%\") # 정확도"
   ]
  },
  {
   "cell_type": "code",
   "execution_count": 24,
   "id": "712b5995",
   "metadata": {},
   "outputs": [],
   "source": [
    "# csv 파일 생성\n",
    "submission = pd.DataFrame({\n",
    "    \"PassengerId\": test[\"PassengerId\"],\n",
    "    \"Survived\": predicion\n",
    "})\n",
    "\n",
    "submission.to_csv('submission(2019016002 양성윤).csv', index=False)"
   ]
  },
  {
   "cell_type": "markdown",
   "id": "b3055793",
   "metadata": {},
   "source": [
    "## 2.  Image classification with CNN"
   ]
  },
  {
   "cell_type": "code",
   "execution_count": 25,
   "id": "0317e6a4",
   "metadata": {},
   "outputs": [],
   "source": [
    "import matplotlib.pyplot as plt\n",
    "import torch\n",
    "import torch.nn as nn\n",
    "import torchvision\n",
    "import torchvision.transforms as transforms"
   ]
  },
  {
   "cell_type": "code",
   "execution_count": 26,
   "id": "bf08ac58",
   "metadata": {},
   "outputs": [
    {
     "name": "stdout",
     "output_type": "stream",
     "text": [
      "Files already downloaded and verified\n",
      "Files already downloaded and verified\n"
     ]
    },
    {
     "data": {
      "text/plain": [
       "['airplane',\n",
       " 'automobile',\n",
       " 'bird',\n",
       " 'cat',\n",
       " 'deer',\n",
       " 'dog',\n",
       " 'frog',\n",
       " 'horse',\n",
       " 'ship',\n",
       " 'truck']"
      ]
     },
     "execution_count": 26,
     "metadata": {},
     "output_type": "execute_result"
    }
   ],
   "source": [
    "batch_size = 64\n",
    "\n",
    "trainset = torchvision.datasets.CIFAR10(\n",
    "    root='./data', \n",
    "    train=True,\n",
    "    download=True, \n",
    "    transform=torchvision.transforms.ToTensor()\n",
    ")\n",
    "train_loader = torch.utils.data.DataLoader(\n",
    "    trainset, \n",
    "    batch_size=batch_size,\n",
    "    shuffle=True\n",
    ")\n",
    "\n",
    "testset = torchvision.datasets.CIFAR10(\n",
    "    root='./data', \n",
    "    train=False,\n",
    "    download=True, \n",
    "    transform=torchvision.transforms.ToTensor()\n",
    ")\n",
    "test_loader = torch.utils.data.DataLoader(\n",
    "    testset, \n",
    "    batch_size=batch_size,\n",
    "    shuffle=False\n",
    ")\n",
    "\n",
    "classes = trainset.classes\n",
    "classes"
   ]
  },
  {
   "cell_type": "code",
   "execution_count": 27,
   "id": "a6bbcbbe",
   "metadata": {},
   "outputs": [
    {
     "data": {
      "text/plain": [
       "<matplotlib.image.AxesImage at 0x25adb529730>"
      ]
     },
     "execution_count": 27,
     "metadata": {},
     "output_type": "execute_result"
    },
    {
     "data": {
      "image/png": "[encoded data removed]",
      "text/plain": [
       "<Figure size 432x288 with 1 Axes>"
      ]
     },
     "metadata": {
      "needs_background": "light"
     },
     "output_type": "display_data"
    }
   ],
   "source": [
    "images=train_loader.dataset[1][0]\n",
    "plt.imshow(images.permute(1, 2, 0))"
   ]
  },
  {
   "cell_type": "code",
   "execution_count": 28,
   "id": "288edb95",
   "metadata": {},
   "outputs": [
    {
     "data": {
      "text/plain": [
       "torch.Size([3, 32, 32])"
      ]
     },
     "execution_count": 28,
     "metadata": {},
     "output_type": "execute_result"
    }
   ],
   "source": [
    "images.size() # [3, 32, 32]: 3 -> RGB, 32x32 "
   ]
  },
  {
   "cell_type": "code",
   "execution_count": 29,
   "id": "67d0cf44",
   "metadata": {},
   "outputs": [],
   "source": [
    "class cnn(nn.Module): \n",
    "    def __init__(self): \n",
    "        super(cnn, self).__init__() \n",
    "        self.conv1 = nn.Conv2d(in_channels= 3, out_channels= 6, kernel_size= 3, padding= 1) \n",
    "        self.conv2 = nn.Conv2d(in_channels= 6, out_channels= 10, kernel_size= 3, padding= 1)\n",
    "        self.maxpool = nn.MaxPool2d(kernel_size= 2,stride= 2)\n",
    "        self.conv3 = nn.Conv2d(in_channels= 10, out_channels= 16, kernel_size= 3, padding= 1)\n",
    "        self.conv4 = nn.Conv2d(in_channels= 16, out_channels= 32, kernel_size= 3, padding= 1)\n",
    "        self.maxpool = nn.MaxPool2d(kernel_size= 2,stride= 2)\n",
    "        self.conv5 = nn.Conv2d(in_channels= 32, out_channels= 64, kernel_size= 3, padding= 1)\n",
    "        self.conv6 = nn.Conv2d(in_channels= 64, out_channels= 80, kernel_size= 3, padding= 1)\n",
    "        self.maxpool = nn.MaxPool2d(kernel_size= 2,stride= 2)\n",
    "        self.dropout = nn.Dropout2d(0.4)\n",
    "        self.fc1 = nn.Linear(4*4*80, 128)\n",
    "        self.fc2 = nn.Linear(128,64)\n",
    "        self.fc3 = nn.Linear(64,10)\n",
    "\n",
    "    # 순전파\n",
    "    def forward(self, x):  # input = (32*32*3)\n",
    "        x = nn.functional.relu(self.conv1(x))  # (32*32*6) \n",
    "        x = nn.functional.relu(self.conv2(x))  # (32*32*10) \n",
    "        x = self.maxpool(x)  # (16*16*10) \n",
    "        x = nn.functional.relu(self.conv3(x))  # (16*16*16) \n",
    "        x = nn.functional.relu(self.conv4(x))  # (16*16*32)  \n",
    "        x = self.maxpool(x)  # (8*8*32) \n",
    "        x = nn.functional.relu(self.conv5(x))  # (8*8*64) \n",
    "        x = nn.functional.relu(self.conv6(x))  # (8*8*80) \n",
    "        x = self.maxpool(x) # (4*4*80) \n",
    "\n",
    "        x = torch.flatten(x,1)\n",
    "        x = nn.functional.relu(self.fc1(x))\n",
    "        x = nn.functional.relu(self.fc2(x))\n",
    "        x = self.dropout(x)\n",
    "        x = self.fc3(x)\n",
    "        return x"
   ]
  },
  {
   "cell_type": "code",
   "execution_count": 30,
   "id": "d40bc9e0",
   "metadata": {},
   "outputs": [
    {
     "name": "stderr",
     "output_type": "stream",
     "text": [
      "C:\\Users\\Administrator\\anaconda3\\lib\\site-packages\\torch\\cuda\\__init__.py:80: UserWarning: CUDA initialization: CUDA driver initialization failed, you might not have a CUDA gpu. (Triggered internally at  ..\\c10\\cuda\\CUDAFunctions.cpp:112.)\n",
      "  return torch._C._cuda_getDeviceCount() > 0\n"
     ]
    }
   ],
   "source": [
    "# GPU 연산 \n",
    "USE_CUDA = torch.cuda.is_available()\n",
    "DEVICE = torch.device(\"cuda\" if USE_CUDA else \"cpu\")\n",
    "model = cnn().to(DEVICE)  # 모델 생성"
   ]
  },
  {
   "cell_type": "code",
   "execution_count": 31,
   "id": "bf5d6c34",
   "metadata": {},
   "outputs": [],
   "source": [
    "# loss, optimizer 설정 \n",
    "learning_rate = 0.01\n",
    "criterion = nn.CrossEntropyLoss()\n",
    "optimizer = torch.optim.Adam(model.parameters(), lr = 0.001)"
   ]
  },
  {
   "cell_type": "code",
   "execution_count": 32,
   "id": "3bf007a8",
   "metadata": {},
   "outputs": [],
   "source": [
    "# train\n",
    "def train(model, train_loader, optimizer):\n",
    "    model.train()\n",
    "    for batch_idx, (X, Y) in enumerate(train_loader):\n",
    "        X, Y = X.to(DEVICE), Y.to(DEVICE, dtype = torch.int64)\n",
    "        optimizer.zero_grad()\n",
    "        y = model(X)\n",
    "        loss = nn.functional.cross_entropy(y, Y)\n",
    "        loss.backward()\n",
    "        optimizer.step()"
   ]
  },
  {
   "cell_type": "code",
   "execution_count": 33,
   "id": "d51c655d",
   "metadata": {},
   "outputs": [],
   "source": [
    "# evaluation\n",
    "def evaluate(model, test_loader):\n",
    "    model.eval()\n",
    "    \n",
    "    test_loss = 0\n",
    "    correct = 0\n",
    "    \n",
    "    with torch.no_grad():\n",
    "        for X, Y in test_loader:\n",
    "            X, Y= X.to(DEVICE), Y.to(DEVICE, dtype = torch.int64)\n",
    "            y = model(X)\n",
    "            test_loss += nn.functional.cross_entropy(y, Y, reduction = \"sum\").item()\n",
    "            prediction = y.max(1, keepdim = True)[1]   \n",
    "            correct += prediction.eq(Y.view_as(prediction)).sum().item() \n",
    "    \n",
    "    test_loss /= len(test_loader.dataset)\n",
    "    test_accuracy = 100. * correct / len(test_loader.dataset)\n",
    "    return test_loss, test_accuracy"
   ]
  },
  {
   "cell_type": "code",
   "execution_count": 34,
   "id": "7b8d1b8e",
   "metadata": {},
   "outputs": [
    {
     "name": "stdout",
     "output_type": "stream",
     "text": [
      "[EPOCH : 1], \tTest Loss: 1.5725, \tTest Accuracy: 42.12 % \n",
      "\n",
      "[EPOCH : 2], \tTest Loss: 1.3457, \tTest Accuracy: 50.48 % \n",
      "\n",
      "[EPOCH : 3], \tTest Loss: 1.2731, \tTest Accuracy: 53.36 % \n",
      "\n",
      "[EPOCH : 4], \tTest Loss: 1.1933, \tTest Accuracy: 57.20 % \n",
      "\n",
      "[EPOCH : 5], \tTest Loss: 1.1521, \tTest Accuracy: 58.98 % \n",
      "\n",
      "[EPOCH : 6], \tTest Loss: 1.1409, \tTest Accuracy: 60.38 % \n",
      "\n",
      "[EPOCH : 7], \tTest Loss: 1.0624, \tTest Accuracy: 63.11 % \n",
      "\n",
      "[EPOCH : 8], \tTest Loss: 1.0469, \tTest Accuracy: 63.18 % \n",
      "\n",
      "[EPOCH : 9], \tTest Loss: 0.9978, \tTest Accuracy: 64.73 % \n",
      "\n",
      "[EPOCH : 10], \tTest Loss: 1.0063, \tTest Accuracy: 65.05 % \n",
      "\n",
      "[EPOCH : 11], \tTest Loss: 0.9670, \tTest Accuracy: 66.30 % \n",
      "\n",
      "[EPOCH : 12], \tTest Loss: 0.9731, \tTest Accuracy: 66.54 % \n",
      "\n",
      "[EPOCH : 13], \tTest Loss: 1.0068, \tTest Accuracy: 65.89 % \n",
      "\n",
      "[EPOCH : 14], \tTest Loss: 0.9846, \tTest Accuracy: 67.42 % \n",
      "\n",
      "[EPOCH : 15], \tTest Loss: 1.0367, \tTest Accuracy: 66.66 % \n",
      "\n",
      "[EPOCH : 16], \tTest Loss: 1.0590, \tTest Accuracy: 65.88 % \n",
      "\n",
      "[EPOCH : 17], \tTest Loss: 1.0815, \tTest Accuracy: 66.95 % \n",
      "\n",
      "[EPOCH : 18], \tTest Loss: 1.0637, \tTest Accuracy: 67.03 % \n",
      "\n",
      "[EPOCH : 19], \tTest Loss: 1.1192, \tTest Accuracy: 66.29 % \n",
      "\n",
      "[EPOCH : 20], \tTest Loss: 1.0792, \tTest Accuracy: 67.37 % \n",
      "\n",
      "[EPOCH : 21], \tTest Loss: 1.1339, \tTest Accuracy: 66.61 % \n",
      "\n",
      "[EPOCH : 22], \tTest Loss: 1.2022, \tTest Accuracy: 66.30 % \n",
      "\n",
      "[EPOCH : 23], \tTest Loss: 1.2144, \tTest Accuracy: 66.16 % \n",
      "\n",
      "[EPOCH : 24], \tTest Loss: 1.3220, \tTest Accuracy: 65.53 % \n",
      "\n",
      "[EPOCH : 25], \tTest Loss: 1.3152, \tTest Accuracy: 66.49 % \n",
      "\n"
     ]
    }
   ],
   "source": [
    "# 정확도 측정\n",
    "EPOCHS = 25\n",
    "for epoch in range(1, EPOCHS + 1):\n",
    "    train(model, train_loader, optimizer)\n",
    "    test_loss, test_accuracy = evaluate(model, test_loader)\n",
    "    print(\"[EPOCH : {}], \\tTest Loss: {:.4f}, \\tTest Accuracy: {:.2f} % \\n\".format(epoch, test_loss, test_accuracy))"
   ]
  },
  {
   "cell_type": "markdown",
   "id": "a2d017cd",
   "metadata": {},
   "source": [
    "## 보고서\n",
    "CNN을 이용하여 cifar10 이미지를 분류해봤습니다. cifar10 데이터를 불러오고 클래스를 이용하여 모델을 만들었습니다. convolution 레이어를 6개 쌓아 모델을 만들었습니다. relu 함수를 활성화 함수로 이용하였고 maxpooling 방법을 이용하여 pooling 레이어를 만들었습니다. 한 이미지 행렬의 차원은 (32, 32, 3)인데 convolution 레이어의 kernel size가 (3,3)이라 한 개의 convolution 레이어를 지날 때마다 (30,30, out_channel), (28,28, out_channel), (26,26, out_channel)처럼 2씩 줄어들게 되는데 이를 막기 위해 padding을 사용하여 (32, 32, out_channel)이 유지되게 하였습니다. 이미지가 레이어를 거치면 overfitting을 막기 위해 0.4의 값으로 dropout을 하였습니다. 이후 손실함수는 CrossEntropyLoss을 이용하고 Adam을 써서 최적화하였습니다. 모델을 train data를 이용해 훈련시키고 test data에 대해 정확도를 측정하였습니다. epoch가 클수록 정확도가 올라가는 것을 볼 수 있는데 epoch의 일정 구간마다 정확도가 낮아졌다가 높아지는 것을 볼 수 있었습니다. 이는 overfitting 문제이거나 logical minimum 문제라고 생각합니다. 또, 초기 값에 따라 정확도가 달라지는 것을 확인할 수 있었습니다. 정확도가 잘 나올 때는 70 초반까지 나왔습니다. 따라서 제가 생성한 모델에서 나올 수 있는 정확도는 60 중후반에서 70 초반이라고 생각합니다. "
   ]
  }
 ],
 "metadata": {
  "kernelspec": {
   "display_name": "Python 3 (ipykernel)",
   "language": "python",
   "name": "python3"
  },
  "language_info": {
   "codemirror_mode": {
    "name": "ipython",
    "version": 3
   },
   "file_extension": ".py",
   "mimetype": "text/x-python",
   "name": "python",
   "nbconvert_exporter": "python",
   "pygments_lexer": "ipython3",
   "version": "3.9.7"
  }
 },
 "nbformat": 4,
 "nbformat_minor": 5
}
