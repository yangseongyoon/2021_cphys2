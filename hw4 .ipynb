{
 "cells": [
  {
   "cell_type": "markdown",
   "id": "9a7c1807",
   "metadata": {},
   "source": [
    "# XOR"
   ]
  },
  {
   "cell_type": "code",
   "execution_count": 1,
   "id": "43d17349",
   "metadata": {},
   "outputs": [],
   "source": [
    "import numpy as np"
   ]
  },
  {
   "cell_type": "code",
   "execution_count": 2,
   "id": "56c6ee19",
   "metadata": {},
   "outputs": [],
   "source": [
    "X = np.array([[0,0,1],[0,1,1],[1,0,1],[1,1,1]])\n",
    "Y = np.array([[0],[1],[1],[0]])"
   ]
  },
  {
   "cell_type": "code",
   "execution_count": 3,
   "id": "6142fdfe",
   "metadata": {},
   "outputs": [],
   "source": [
    "def f(x):\n",
    "    return 1/(1+np.exp(-x))\n",
    "\n",
    "def f_prime(x):\n",
    "    return x*(1-x)"
   ]
  },
  {
   "cell_type": "code",
   "execution_count": 4,
   "id": "176d30ec",
   "metadata": {},
   "outputs": [],
   "source": [
    "inputs, hiddens, outputs = 3, 4, 1  # inputs,hiddens,outputs의 노드 개수\n",
    "n = 0.2 # 학습률"
   ]
  },
  {
   "cell_type": "code",
   "execution_count": 5,
   "id": "b76afd7a",
   "metadata": {},
   "outputs": [],
   "source": [
    "np.random.seed(5)\n",
    "w0 = 2*np.random.random((inputs, hiddens))-1\n",
    "w1 = 2*np.random.random((hiddens, outputs))-1"
   ]
  },
  {
   "cell_type": "code",
   "execution_count": 6,
   "id": "37583953",
   "metadata": {},
   "outputs": [
    {
     "name": "stdout",
     "output_type": "stream",
     "text": [
      "[[0.02812149]\n",
      " [0.97341115]\n",
      " [0.9686649 ]\n",
      " [0.02316445]]\n"
     ]
    }
   ],
   "source": [
    "for i in range(10000):\n",
    "    # 순전파\n",
    "    L0 = X\n",
    "    net1 = np.dot(L0,w0)\n",
    "    L1 = f(net1)\n",
    "    L1[:,-1] = 1.0  \n",
    "    net2 = np.dot(L1,w1)\n",
    "    L2 = f(net2)\n",
    "    \n",
    "    # outputs에서의 오차\n",
    "    L2_error = L2 - Y\n",
    "    L2_delta = L2_error*f_prime(L2)\n",
    "\n",
    "    # hiddens에서의 오차\n",
    "    L1_error = np.dot(L2_delta,w1.T) \n",
    "    L1_delta = L1_error*f_prime(L1)\n",
    "\n",
    "    # hiddens에서 outputs로 갈 때의 w를 수정\n",
    "    w1 += (-1)*n*np.dot(L1.T,L2_delta)\n",
    "\n",
    "    # inputs에서 hiddens로 갈 때의 w를 수정\n",
    "    w0 +=  (-1)*n*np.dot(L0.T,L1_delta)\n",
    "print(L2)"
   ]
  }
 ],
 "metadata": {
  "kernelspec": {
   "display_name": "Python 3 (ipykernel)",
   "language": "python",
   "name": "python3"
  },
  "language_info": {
   "codemirror_mode": {
    "name": "ipython",
    "version": 3
   },
   "file_extension": ".py",
   "mimetype": "text/x-python",
   "name": "python",
   "nbconvert_exporter": "python",
   "pygments_lexer": "ipython3",
   "version": "3.8.11"
  }
 },
 "nbformat": 4,
 "nbformat_minor": 5
}
