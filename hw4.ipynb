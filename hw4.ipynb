{
 "cells": [
  {
   "cell_type": "markdown",
   "id": "b65dfe15",
   "metadata": {},
   "source": [
    "# XOR"
   ]
  },
  {
   "cell_type": "code",
   "execution_count": 1,
   "id": "3dab6c4e",
   "metadata": {},
   "outputs": [],
   "source": [
    "import numpy as np"
   ]
  },
  {
   "cell_type": "code",
   "execution_count": 2,
   "id": "c1bd35ab",
   "metadata": {},
   "outputs": [],
   "source": [
    "X = np.array([[0,0,1],[1,0,1],[0,1,1],[1,1,1]]) # [x1,x2,b]\n",
    "Y = np.array([[0],[1],[1],[0]])"
   ]
  },
  {
   "cell_type": "code",
   "execution_count": 3,
   "id": "b6002442",
   "metadata": {},
   "outputs": [],
   "source": [
    "def f(x):\n",
    "    return 1/(1+ np.exp(-x))\n",
    "\n",
    "def f_prime(x):\n",
    "    return x * (1-x)"
   ]
  },
  {
   "cell_type": "code",
   "execution_count": 4,
   "id": "a4479902",
   "metadata": {},
   "outputs": [],
   "source": [
    "inputs,hiddens,outputs = 3,4,1\n",
    "n = 0.1"
   ]
  },
  {
   "cell_type": "code",
   "execution_count": 5,
   "id": "3d6fa7af",
   "metadata": {},
   "outputs": [],
   "source": [
    "w = np.random.uniform(size=(inputs,hiddens))\n",
    "omega = np.random.uniform(size=(hiddens,outputs))"
   ]
  },
  {
   "cell_type": "code",
   "execution_count": 6,
   "id": "d2a09a12",
   "metadata": {},
   "outputs": [],
   "source": [
    "for i in range(100000):\n",
    "    #forward propagation\n",
    "    h = f(np.dot(X, w))\n",
    "    o = f(np.dot(h,omega))\n",
    "    \n",
    "    #error\n",
    "    error = Y - o\n",
    "    \n",
    "    #backward propagation\n",
    "    dE = error*n\n",
    "    omega = omega + h.T.dot(dE)\n",
    "    \n",
    "    dQ = dE.dot(omega.T)*f_prime(h)\n",
    "    w = w + X.T.dot(dQ)"
   ]
  },
  {
   "cell_type": "code",
   "execution_count": 7,
   "id": "b3d50198",
   "metadata": {},
   "outputs": [
    {
     "name": "stdout",
     "output_type": "stream",
     "text": [
      "[0.00027023]\n",
      "[0.9997851]\n",
      "[0.99992404]\n",
      "[0.00011358]\n"
     ]
    }
   ],
   "source": [
    "h = f(np.dot(X[0],w))\n",
    "o = f(np.dot(h,omega))\n",
    "print(o)\n",
    "\n",
    "h = f(np.dot(X[1],w))\n",
    "o = f(np.dot(h,omega))\n",
    "print(o)\n",
    "\n",
    "h = f(np.dot(X[2],w))\n",
    "o = f(np.dot(h,omega))\n",
    "print(o)\n",
    "\n",
    "h = f(np.dot(X[3],w))\n",
    "o = f(np.dot(h,omega))\n",
    "print(o)"
   ]
  },
  {
   "cell_type": "markdown",
   "id": "9872df38",
   "metadata": {},
   "source": [
    "n이 커질수록, 결과가 근사적으로 \n",
    "[0,0]일때, 0 \n",
    "[1,0]일때, 1 \n",
    "[0,1]일때, 1 \n",
    "[1,1]일때, 0\n",
    "이 나오는 것을 볼 수 있다."
   ]
  }
 ],
 "metadata": {
  "kernelspec": {
   "display_name": "Python 3 (ipykernel)",
   "language": "python",
   "name": "python3"
  },
  "language_info": {
   "codemirror_mode": {
    "name": "ipython",
    "version": 3
   },
   "file_extension": ".py",
   "mimetype": "text/x-python",
   "name": "python",
   "nbconvert_exporter": "python",
   "pygments_lexer": "ipython3",
   "version": "3.8.11"
  }
 },
 "nbformat": 4,
 "nbformat_minor": 5
}
