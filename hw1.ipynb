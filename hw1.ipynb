{
 "cells": [
  {
   "cell_type": "markdown",
   "id": "585a919c",
   "metadata": {},
   "source": [
    "# Gradient Descent"
   ]
  },
  {
   "cell_type": "code",
   "execution_count": 1,
   "id": "6731761c",
   "metadata": {},
   "outputs": [],
   "source": [
    "import numpy as np\n",
    "import matplotlib.pyplot as plt"
   ]
  },
  {
   "cell_type": "code",
   "execution_count": 2,
   "id": "54c6ed59",
   "metadata": {
    "scrolled": true
   },
   "outputs": [
    {
     "data": {
      "text/plain": [
       "[<matplotlib.lines.Line2D at 0x1c009d5b640>]"
      ]
     },
     "execution_count": 2,
     "metadata": {},
     "output_type": "execute_result"
    },
    {
     "data": {
      "image/png": "[encoded data removed]",
      "text/plain": [
       "<Figure size 432x288 with 1 Axes>"
      ]
     },
     "metadata": {
      "needs_background": "light"
     },
     "output_type": "display_data"
    }
   ],
   "source": [
    "x = np.arange(-10,10,0.01)\n",
    "def f(x):\n",
    "    return 0.5*x**4-3*x**3\n",
    "plt.ylim(-100,100)\n",
    "plt.xlim(-5,7)\n",
    "plt.plot(x,f(x))"
   ]
  },
  {
   "cell_type": "code",
   "execution_count": 3,
   "id": "b5bea628",
   "metadata": {},
   "outputs": [],
   "source": [
    "gamma = 0.02\n",
    "def f_prime(x):    #f(x)의 미분\n",
    "    return 2*x**3 - 9*x**2\n",
    "x0= -5\n",
    "for i in range(100):    # 최저점 구하기\n",
    "    x0 = x0 - gamma*f_prime(x0)"
   ]
  },
  {
   "cell_type": "code",
   "execution_count": 4,
   "id": "85524c60",
   "metadata": {},
   "outputs": [
    {
     "data": {
      "text/plain": [
       "[<matplotlib.lines.Line2D at 0x1c009e69490>]"
      ]
     },
     "execution_count": 4,
     "metadata": {},
     "output_type": "execute_result"
    },
    {
     "data": {
      "image/png": "[encoded data removed]",
      "text/plain": [
       "<Figure size 432x288 with 1 Axes>"
      ]
     },
     "metadata": {
      "needs_background": "light"
     },
     "output_type": "display_data"
    }
   ],
   "source": [
    "plt.ylim(-100,100)\n",
    "plt.xlim(-5,7)\n",
    "plt.plot(x,f(x))\n",
    "plt.plot(x0,f(x0),'o') "
   ]
  },
  {
   "cell_type": "code",
   "execution_count": 5,
   "id": "2b0f1447",
   "metadata": {},
   "outputs": [
    {
     "data": {
      "text/plain": [
       "(4.5, -68.34375)"
      ]
     },
     "execution_count": 5,
     "metadata": {},
     "output_type": "execute_result"
    }
   ],
   "source": [
    "x0,f(x0) #최저점 좌표 "
   ]
  },
  {
   "cell_type": "markdown",
   "id": "1d29634c",
   "metadata": {},
   "source": [
    "\n",
    "# Diabetes\n",
    "## 1. sklearn을 이용하지 않고\n",
    "### multi dimentional linear regression 사용\n",
    "### $$ y = w_0x_0+w_1x_1+w_2x_2+w_3x_3 $$"
   ]
  },
  {
   "cell_type": "code",
   "execution_count": 6,
   "id": "e28dd1fa",
   "metadata": {},
   "outputs": [],
   "source": [
    "from sklearn import datasets"
   ]
  },
  {
   "cell_type": "code",
   "execution_count": 7,
   "id": "edee0095",
   "metadata": {},
   "outputs": [],
   "source": [
    "diabetes = datasets.load_diabetes()"
   ]
  },
  {
   "cell_type": "code",
   "execution_count": 8,
   "id": "259ce98c",
   "metadata": {},
   "outputs": [],
   "source": [
    "X_age = diabetes.data[:,0] #나이\n",
    "X_bmi = diabetes.data[:,2] #bmi\n",
    "X_p = diabetes.data[:,3] #혈압\n",
    "Y = diabetes.target"
   ]
  },
  {
   "cell_type": "code",
   "execution_count": 9,
   "id": "a5ca4958",
   "metadata": {},
   "outputs": [],
   "source": [
    "x0 = np.ones(442)  # x1, x2, x3 행렬과 같게 (1,442) 행렬 만들기\n",
    "x1 = X_age\n",
    "x2 = X_bmi \n",
    "x3 = X_p"
   ]
  },
  {
   "cell_type": "code",
   "execution_count": 10,
   "id": "d6ded0ba",
   "metadata": {},
   "outputs": [],
   "source": [
    "x = np.array([x0] + [x1] + [x2] + [x3])"
   ]
  },
  {
   "cell_type": "code",
   "execution_count": 11,
   "id": "6758f824",
   "metadata": {},
   "outputs": [
    {
     "data": {
      "text/plain": [
       "(442, 4)"
      ]
     },
     "execution_count": 11,
     "metadata": {},
     "output_type": "execute_result"
    }
   ],
   "source": [
    "x_t =np.transpose(x)\n",
    "np.shape(x_t)"
   ]
  },
  {
   "cell_type": "code",
   "execution_count": 12,
   "id": "086c116d",
   "metadata": {},
   "outputs": [],
   "source": [
    "b = np.linalg.inv(np.dot(x,x_t)).dot(x).dot(Y) "
   ]
  },
  {
   "cell_type": "code",
   "execution_count": 13,
   "id": "c26f4283",
   "metadata": {},
   "outputs": [
    {
     "data": {
      "text/plain": [
       "array([152.13348416,  25.99093614, 788.78062759, 394.1276443 ])"
      ]
     },
     "execution_count": 13,
     "metadata": {},
     "output_type": "execute_result"
    }
   ],
   "source": [
    "b # 차례대로 w0, w1, w2, w3 "
   ]
  },
  {
   "cell_type": "code",
   "execution_count": 14,
   "id": "3632e263",
   "metadata": {},
   "outputs": [],
   "source": [
    "def y_pr(a,x_1,x_2,x_3):  # 예측값\n",
    "    x_rd=np.array([1,x_1,x_2,x_3])\n",
    "    return np.dot(a,x_rd)\n",
    "\n",
    "def MSE(a):\n",
    "    n=0\n",
    "    for i in range(441):\n",
    "        n = n+ ((Y[i] - y_pr(a,x1[i],x2[i],x3[i]))**2)\n",
    "    return n/441"
   ]
  },
  {
   "cell_type": "code",
   "execution_count": 15,
   "id": "00b5d414",
   "metadata": {},
   "outputs": [
    {
     "data": {
      "text/plain": [
       "59.903349953046984"
      ]
     },
     "execution_count": 15,
     "metadata": {},
     "output_type": "execute_result"
    }
   ],
   "source": [
    "MSE(b)**(1/2)  # 평균오차"
   ]
  },
  {
   "cell_type": "markdown",
   "id": "2ab3c03e",
   "metadata": {},
   "source": [
    "# Diabetes\n",
    "## 2. sklearn을 이용해서"
   ]
  },
  {
   "cell_type": "code",
   "execution_count": 16,
   "id": "a9767fb8",
   "metadata": {},
   "outputs": [],
   "source": [
    "from sklearn.linear_model import LinearRegression"
   ]
  },
  {
   "cell_type": "code",
   "execution_count": 17,
   "id": "72b651a6",
   "metadata": {},
   "outputs": [
    {
     "data": {
      "text/plain": [
       "LinearRegression()"
      ]
     },
     "execution_count": 17,
     "metadata": {},
     "output_type": "execute_result"
    }
   ],
   "source": [
    "X=np.array([X_age,X_bmi,X_p])\n",
    "f=LinearRegression()\n",
    "f.fit(np.transpose(X),Y)"
   ]
  },
  {
   "cell_type": "code",
   "execution_count": 18,
   "id": "40efef5a",
   "metadata": {},
   "outputs": [
    {
     "data": {
      "text/plain": [
       "(152.13348416289654, array([ 25.99093614, 788.78062759, 394.1276443 ]))"
      ]
     },
     "execution_count": 18,
     "metadata": {},
     "output_type": "execute_result"
    }
   ],
   "source": [
    "f.intercept_,f.coef_  # w0, w1, w2, w3"
   ]
  },
  {
   "cell_type": "code",
   "execution_count": 19,
   "id": "0e998d65",
   "metadata": {},
   "outputs": [],
   "source": [
    "w=np.append(f.intercept_,f.coef_)"
   ]
  },
  {
   "cell_type": "code",
   "execution_count": 20,
   "id": "39b14877",
   "metadata": {},
   "outputs": [
    {
     "data": {
      "text/plain": [
       "59.90334995304698"
      ]
     },
     "execution_count": 20,
     "metadata": {},
     "output_type": "execute_result"
    }
   ],
   "source": [
    "MSE(w)**(1/2) # 평균오차"
   ]
  }
 ],
 "metadata": {
  "kernelspec": {
   "display_name": "Python 3 (ipykernel)",
   "language": "python",
   "name": "python3"
  },
  "language_info": {
   "codemirror_mode": {
    "name": "ipython",
    "version": 3
   },
   "file_extension": ".py",
   "mimetype": "text/x-python",
   "name": "python",
   "nbconvert_exporter": "python",
   "pygments_lexer": "ipython3",
   "version": "3.8.11"
  }
 },
 "nbformat": 4,
 "nbformat_minor": 5
}
