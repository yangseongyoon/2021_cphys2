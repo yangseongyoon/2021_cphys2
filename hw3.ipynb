{
 "cells": [
  {
   "cell_type": "markdown",
   "id": "45663c59",
   "metadata": {},
   "source": [
    "# OR\n",
    "### 단층 perceptron을 이용하여 다음의 데이터를 분류하여라."
   ]
  },
  {
   "cell_type": "code",
   "execution_count": 1,
   "id": "2c957428",
   "metadata": {},
   "outputs": [
    {
     "data": {
      "text/plain": [
       "([0.30000000000000004, 0.19999999999999987], -0.1)"
      ]
     },
     "execution_count": 1,
     "metadata": {},
     "output_type": "execute_result"
    }
   ],
   "source": [
    "import numpy as np\n",
    "\n",
    "X = [[0,0],[0,1],[1,0],[1,1]]\n",
    "y = [0,1,1,1] # 실제 값\n",
    "\n",
    "w = [0,-1]\n",
    "b = 0\n",
    "n = 0.1\n",
    "\n",
    "def f(w,x,b):\n",
    "    if np.dot(w,x)+b >=0:\n",
    "        Y = 1\n",
    "    else:\n",
    "        Y = 0\n",
    "    return Y # 예측값\n",
    "\n",
    "for j in range(1000):\n",
    "    for i in range(4):\n",
    "        w[0] = w[0] + n*(y[i]-f(w,X[i],b))*X[i][0]\n",
    "        w[1] = w[1] + n*(y[i]-f(w,X[i],b))*X[i][1]\n",
    "        b = b + n*(y[i]-f(w,X[i],b))\n",
    "        \n",
    "w,b"
   ]
  },
  {
   "cell_type": "code",
   "execution_count": 2,
   "id": "63b00d7f",
   "metadata": {},
   "outputs": [
    {
     "data": {
      "text/plain": [
       "(0, 1, 1, 1)"
      ]
     },
     "execution_count": 2,
     "metadata": {},
     "output_type": "execute_result"
    }
   ],
   "source": [
    "f(w,X[0],b),f(w,X[1],b),f(w,X[2],b),f(w,X[3],b)"
   ]
  },
  {
   "cell_type": "markdown",
   "id": "e1b037d9",
   "metadata": {},
   "source": [
    "# Iris classifications\n",
    "### 단층 perceptron을 이용하여 다음의 데이터를 분류하여라."
   ]
  },
  {
   "cell_type": "code",
   "execution_count": 3,
   "id": "4c7b4ba4",
   "metadata": {},
   "outputs": [],
   "source": [
    "from sklearn import datasets\n",
    "\n",
    "iris = datasets.load_iris() # 분꽃\n",
    "X=iris.data # input data # the number of input nodes = 4\n",
    "y=np.where(iris.target>0,1,0) # 0(setosa) 과 1(setosa 외) 로 분류\n",
    "\n",
    "w=[1,2,3,4]\n",
    "b=3\n",
    "n=0.1\n",
    "\n",
    "for j in range(10):\n",
    "    for i in range(150):\n",
    "        w[0] = w[0] + n*(y[i]-f(w,X[i],b))*X[i][0]\n",
    "        w[1] = w[1] + n*(y[i]-f(w,X[i],b))*X[i][1]\n",
    "        w[2] = w[2] + n*(y[i]-f(w,X[i],b))*X[i][2]\n",
    "        w[3] = w[3] + n*(y[i]-f(w,X[i],b))*X[i][3]\n",
    "        b = b + n*(y[i]-f(w,X[i],b))\n",
    "        "
   ]
  },
  {
   "cell_type": "code",
   "execution_count": 4,
   "id": "490f3f31",
   "metadata": {},
   "outputs": [
    {
     "data": {
      "text/plain": [
       "([-1.9700000000000002, 0.3599999999999997, 2.3, 3.9], 2.4999999999999996)"
      ]
     },
     "execution_count": 4,
     "metadata": {},
     "output_type": "execute_result"
    }
   ],
   "source": [
    "w,b"
   ]
  },
  {
   "cell_type": "code",
   "execution_count": 5,
   "id": "53474312",
   "metadata": {},
   "outputs": [
    {
     "name": "stdout",
     "output_type": "stream",
     "text": [
      "0 0\n",
      "0 0\n",
      "0 0\n",
      "0 0\n",
      "0 0\n",
      "0 0\n",
      "0 0\n",
      "0 0\n",
      "0 0\n",
      "0 0\n",
      "0 0\n",
      "0 0\n",
      "0 0\n",
      "0 0\n",
      "0 0\n",
      "0 0\n",
      "0 0\n",
      "0 0\n",
      "0 0\n",
      "0 0\n",
      "0 0\n",
      "0 0\n",
      "0 0\n",
      "0 0\n",
      "0 0\n",
      "0 0\n",
      "0 0\n",
      "0 0\n",
      "0 0\n",
      "0 0\n",
      "0 0\n",
      "0 0\n",
      "0 0\n",
      "0 0\n",
      "0 0\n",
      "0 0\n",
      "0 0\n",
      "0 0\n",
      "0 0\n",
      "0 0\n",
      "0 0\n",
      "0 0\n",
      "0 0\n",
      "0 0\n",
      "0 0\n",
      "0 0\n",
      "0 0\n",
      "0 0\n",
      "0 0\n",
      "0 0\n",
      "1 1\n",
      "1 1\n",
      "1 1\n",
      "1 1\n",
      "1 1\n",
      "1 1\n",
      "1 1\n",
      "1 1\n",
      "1 1\n",
      "1 1\n",
      "1 1\n",
      "1 1\n",
      "1 1\n",
      "1 1\n",
      "1 1\n",
      "1 1\n",
      "1 1\n",
      "1 1\n",
      "1 1\n",
      "1 1\n",
      "1 1\n",
      "1 1\n",
      "1 1\n",
      "1 1\n",
      "1 1\n",
      "1 1\n",
      "1 1\n",
      "1 1\n",
      "1 1\n",
      "1 1\n",
      "1 1\n",
      "1 1\n",
      "1 1\n",
      "1 1\n",
      "1 1\n",
      "1 1\n",
      "1 1\n",
      "1 1\n",
      "1 1\n",
      "1 1\n",
      "1 1\n",
      "1 1\n",
      "1 1\n",
      "1 1\n",
      "1 1\n",
      "1 1\n",
      "1 1\n",
      "1 1\n",
      "1 1\n",
      "1 1\n",
      "1 1\n",
      "1 1\n",
      "1 1\n",
      "1 1\n",
      "1 1\n",
      "1 1\n",
      "1 1\n",
      "1 1\n",
      "1 1\n",
      "1 1\n",
      "1 1\n",
      "1 1\n",
      "1 1\n",
      "1 1\n",
      "1 1\n",
      "1 1\n",
      "1 1\n",
      "1 1\n",
      "1 1\n",
      "1 1\n",
      "1 1\n",
      "1 1\n",
      "1 1\n",
      "1 1\n",
      "1 1\n",
      "1 1\n",
      "1 1\n",
      "1 1\n",
      "1 1\n",
      "1 1\n",
      "1 1\n",
      "1 1\n",
      "1 1\n",
      "1 1\n",
      "1 1\n",
      "1 1\n",
      "1 1\n",
      "1 1\n",
      "1 1\n",
      "1 1\n",
      "1 1\n",
      "1 1\n",
      "1 1\n",
      "1 1\n",
      "1 1\n",
      "1 1\n",
      "1 1\n",
      "1 1\n",
      "1 1\n",
      "1 1\n"
     ]
    }
   ],
   "source": [
    "for i in range(150):\n",
    "    print(y[i],f(w,X[i],b))"
   ]
  }
 ],
 "metadata": {
  "kernelspec": {
   "display_name": "Python 3 (ipykernel)",
   "language": "python",
   "name": "python3"
  },
  "language_info": {
   "codemirror_mode": {
    "name": "ipython",
    "version": 3
   },
   "file_extension": ".py",
   "mimetype": "text/x-python",
   "name": "python",
   "nbconvert_exporter": "python",
   "pygments_lexer": "ipython3",
   "version": "3.8.11"
  }
 },
 "nbformat": 4,
 "nbformat_minor": 5
}
